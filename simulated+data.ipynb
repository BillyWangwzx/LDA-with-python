{
 "cells": [
  {
   "cell_type": "code",
   "execution_count": null,
   "metadata": {},
   "outputs": [],
   "source": [
    "from ldaa import *\n",
    "import matplotlib.pyplot as plt\n",
    "import heapq\n",
    "from generator import * "
   ]
  },
  {
   "cell_type": "code",
   "execution_count": 50,
   "metadata": {},
   "outputs": [],
   "source": [
    "generator1 = generator(10,500,np.ones(10),20)\n",
    "generator2 = generator(10,500,np.ones(10)/20,80)\n"
   ]
  },
  {
   "cell_type": "code",
   "execution_count": 51,
   "metadata": {},
   "outputs": [
    {
     "data": {
      "text/plain": [
       "array([[7.61606291e-03, 9.58313346e-03, 1.96109853e-02, ...,\n",
       "        2.99219912e-04, 4.95285699e-04, 3.70284895e-04],\n",
       "       [1.83998355e-04, 6.69338547e-04, 8.51629423e-04, ...,\n",
       "        2.40888674e-04, 3.91754584e-04, 2.15412247e-04],\n",
       "       [7.05287811e-04, 9.05704341e-04, 7.48891673e-04, ...,\n",
       "        7.60730572e-05, 1.07600242e-04, 9.48970034e-04],\n",
       "       ...,\n",
       "       [8.22482912e-04, 2.06786207e-04, 1.07217326e-04, ...,\n",
       "        1.76426266e-03, 1.10428794e-03, 1.98461193e-03],\n",
       "       [1.77698488e-03, 9.17308325e-04, 3.55400989e-04, ...,\n",
       "        3.67577667e-04, 4.52098544e-05, 1.76611890e-03],\n",
       "       [1.40626476e-04, 1.60121135e-03, 1.42489425e-03, ...,\n",
       "        1.21254948e-02, 1.02412695e-02, 9.41146420e-03]])"
      ]
     },
     "execution_count": 51,
     "metadata": {},
     "output_type": "execute_result"
    }
   ],
   "source": [
    "generator2.make_parameter()"
   ]
  },
  {
   "cell_type": "code",
   "execution_count": 7,
   "metadata": {},
   "outputs": [],
   "source": [
    "docs1 = generator1.sample(m=50)"
   ]
  },
  {
   "cell_type": "code",
   "execution_count": 8,
   "metadata": {},
   "outputs": [],
   "source": [
    "model = LDA(10,500)"
   ]
  },
  {
   "cell_type": "code",
   "execution_count": 9,
   "metadata": {
    "scrolled": true
   },
   "outputs": [
    {
     "name": "stdout",
     "output_type": "stream",
     "text": [
      "step 0\n",
      "finished E\n",
      "finished M\n",
      "step 1\n",
      "finished E\n",
      "finished M\n",
      "step 2\n",
      "finished E\n",
      "finished M\n",
      "step 3\n",
      "finished E\n",
      "finished M\n",
      "step 4\n",
      "finished E\n",
      "finished M\n",
      "step 5\n",
      "finished E\n",
      "finished M\n",
      "step 6\n",
      "finished E\n",
      "finished M\n",
      "step 7\n",
      "finished E\n",
      "finished M\n",
      "step 8\n",
      "finished E\n",
      "finished M\n",
      "step 9\n",
      "finished E\n",
      "finished M\n",
      "step 10\n",
      "finished E\n",
      "finished M\n",
      "step 11\n",
      "finished E\n",
      "finished M\n",
      "step 12\n",
      "finished E\n",
      "finished M\n",
      "step 13\n",
      "finished E\n",
      "finished M\n",
      "step 14\n",
      "finished E\n",
      "finished M\n",
      "step 15\n",
      "finished E\n",
      "finished M\n",
      "step 16\n",
      "finished E\n",
      "finished M\n",
      "step 17\n",
      "finished E\n",
      "finished M\n",
      "step 18\n",
      "finished E\n",
      "finished M\n",
      "step 19\n",
      "finished E\n",
      "finished M\n",
      "step 20\n",
      "finished E\n",
      "finished M\n",
      "step 21\n",
      "finished E\n",
      "finished M\n",
      "step 22\n",
      "finished E\n",
      "finished M\n",
      "step 23\n",
      "finished E\n",
      "finished M\n",
      "step 24\n",
      "finished E\n",
      "finished M\n",
      "step 25\n",
      "finished E\n",
      "finished M\n",
      "step 26\n",
      "finished E\n",
      "finished M\n",
      "step 27\n",
      "finished E\n",
      "finished M\n",
      "step 28\n",
      "finished E\n",
      "finished M\n",
      "step 29\n",
      "finished E\n",
      "finished M\n",
      "step 30\n",
      "finished E\n",
      "finished M\n",
      "step 31\n",
      "finished E\n",
      "finished M\n",
      "step 32\n",
      "finished E\n",
      "finished M\n",
      "step 33\n",
      "finished E\n",
      "finished M\n",
      "step 34\n",
      "finished E\n",
      "finished M\n",
      "step 35\n",
      "finished E\n",
      "finished M\n",
      "step 36\n",
      "finished E\n",
      "finished M\n",
      "step 37\n",
      "finished E\n",
      "finished M\n",
      "step 38\n",
      "finished E\n",
      "finished M\n",
      "step 39\n",
      "finished E\n",
      "finished M\n",
      "step 40\n",
      "finished E\n",
      "finished M\n",
      "step 41\n",
      "finished E\n",
      "finished M\n",
      "step 42\n",
      "finished E\n",
      "finished M\n",
      "step 43\n",
      "finished E\n",
      "finished M\n",
      "step 44\n",
      "finished E\n",
      "finished M\n",
      "step 45\n",
      "finished E\n",
      "finished M\n",
      "step 46\n",
      "finished E\n",
      "finished M\n",
      "step 47\n",
      "finished E\n",
      "finished M\n",
      "step 48\n",
      "finished E\n",
      "finished M\n",
      "step 49\n",
      "finished E\n",
      "finished M\n",
      "step 50\n",
      "finished E\n",
      "finished M\n",
      "step 51\n",
      "finished E\n",
      "finished M\n",
      "step 52\n",
      "finished E\n",
      "finished M\n",
      "step 53\n",
      "finished E\n",
      "finished M\n",
      "step 54\n",
      "finished E\n",
      "finished M\n",
      "step 55\n",
      "finished E\n",
      "finished M\n",
      "step 56\n",
      "finished E\n",
      "finished M\n",
      "step 57\n",
      "finished E\n",
      "finished M\n",
      "step 58\n",
      "finished E\n",
      "finished M\n",
      "step 59\n",
      "finished E\n",
      "finished M\n",
      "step 60\n",
      "finished E\n",
      "finished M\n",
      "step 61\n",
      "finished E\n",
      "finished M\n",
      "step 62\n",
      "finished E\n",
      "finished M\n",
      "step 63\n",
      "finished E\n",
      "finished M\n",
      "step 64\n",
      "finished E\n",
      "finished M\n",
      "step 65\n",
      "finished E\n",
      "finished M\n",
      "step 66\n",
      "finished E\n",
      "finished M\n",
      "step 67\n",
      "finished E\n",
      "finished M\n",
      "step 68\n",
      "finished E\n",
      "finished M\n",
      "step 69\n",
      "finished E\n",
      "finished M\n",
      "step 70\n",
      "finished E\n",
      "finished M\n",
      "step 71\n",
      "finished E\n",
      "finished M\n",
      "step 72\n",
      "finished E\n",
      "finished M\n",
      "step 73\n",
      "finished E\n",
      "finished M\n",
      "step 74\n",
      "finished E\n",
      "finished M\n",
      "step 75\n",
      "finished E\n",
      "finished M\n",
      "step 76\n",
      "finished E\n",
      "finished M\n",
      "step 77\n",
      "finished E\n",
      "finished M\n",
      "step 78\n",
      "finished E\n",
      "finished M\n",
      "step 79\n",
      "finished E\n",
      "finished M\n",
      "step 80\n",
      "finished E\n",
      "finished M\n",
      "step 81\n",
      "finished E\n",
      "finished M\n",
      "step 82\n",
      "finished E\n",
      "finished M\n",
      "step 83\n",
      "finished E\n",
      "finished M\n",
      "step 84\n",
      "finished E\n",
      "finished M\n",
      "step 85\n",
      "finished E\n",
      "finished M\n",
      "step 86\n",
      "finished E\n",
      "finished M\n",
      "step 87\n",
      "finished E\n",
      "finished M\n",
      "step 88\n",
      "finished E\n",
      "finished M\n",
      "step 89\n",
      "finished E\n",
      "finished M\n",
      "step 90\n",
      "finished E\n",
      "finished M\n",
      "step 91\n",
      "finished E\n",
      "finished M\n",
      "step 92\n",
      "finished E\n",
      "finished M\n",
      "step 93\n",
      "finished E\n",
      "finished M\n",
      "step 94\n",
      "finished E\n",
      "finished M\n",
      "step 95\n",
      "finished E\n",
      "finished M\n",
      "step 96\n",
      "finished E\n",
      "finished M\n",
      "step 97\n",
      "finished E\n",
      "finished M\n",
      "step 98\n",
      "finished E\n",
      "finished M\n",
      "step 99\n",
      "finished E\n",
      "finished M\n"
     ]
    }
   ],
   "source": [
    "phi_post1,gamma_post1,alpha_post1,beta_post1 = model.fit(docs1)"
   ]
  },
  {
   "cell_type": "code",
   "execution_count": 10,
   "metadata": {},
   "outputs": [
    {
     "data": {
      "image/png": "[encoded data removed]",
      "text/plain": [
       "<Figure size 648x648 with 2 Axes>"
      ]
     },
     "metadata": {
      "needs_background": "light"
     },
     "output_type": "display_data"
    }
   ],
   "source": [
    "B1 = np.repeat(generator1.beta, 100, axis=0)\n",
    "B2 = np.repeat(beta_post1, 100, axis=0)\n",
    "B = [B1,B2] \n",
    "fig, axes = plt.subplots(1, 2, figsize=(9,9), sharey=True)\n",
    "for i, ax in enumerate(axes.ravel(), 1):\n",
    "    ax.imshow(B[i-1],cmap='Reds')\n",
    "    ax.set_xticklabels([])\n",
    "    ax.set_yticklabels([])\n",
    "    ax.xaxis.set_ticks_position('none')\n",
    "    ax.yaxis.set_ticks_position('none')\n",
    "plt.tight_layout()\n"
   ]
  },
  {
   "cell_type": "code",
   "execution_count": 52,
   "metadata": {},
   "outputs": [],
   "source": [
    "docs2 = generator2.sample(m=500)"
   ]
  },
  {
   "cell_type": "code",
   "execution_count": 58,
   "metadata": {},
   "outputs": [],
   "source": [
    "model2 = LDA(10,500)"
   ]
  },
  {
   "cell_type": "code",
   "execution_count": null,
   "metadata": {
    "scrolled": true
   },
   "outputs": [
    {
     "name": "stdout",
     "output_type": "stream",
     "text": [
      "step 0\n",
      "finished E\n",
      "finished M\n",
      "step 1\n",
      "finished E\n",
      "finished M\n",
      "step 2\n",
      "finished E\n",
      "finished M\n",
      "step 3\n",
      "finished E\n",
      "finished M\n",
      "step 4\n",
      "finished E\n",
      "finished M\n",
      "step 5\n",
      "finished E\n",
      "finished M\n",
      "step 6\n",
      "finished E\n",
      "finished M\n",
      "step 7\n",
      "finished E\n",
      "finished M\n",
      "step 8\n",
      "finished E\n",
      "finished M\n",
      "step 9\n",
      "finished E\n",
      "finished M\n",
      "step 10\n",
      "finished E\n",
      "finished M\n",
      "step 11\n",
      "finished E\n",
      "finished M\n",
      "step 12\n",
      "finished E\n",
      "finished M\n",
      "step 13\n",
      "finished E\n",
      "finished M\n",
      "step 14\n",
      "finished E\n",
      "finished M\n",
      "step 15\n",
      "finished E\n",
      "finished M\n",
      "step 16\n",
      "finished E\n",
      "finished M\n",
      "step 17\n",
      "finished E\n",
      "finished M\n",
      "step 18\n",
      "finished E\n",
      "finished M\n",
      "step 19\n",
      "finished E\n",
      "finished M\n",
      "step 20\n",
      "finished E\n",
      "finished M\n",
      "step 21\n",
      "finished E\n",
      "finished M\n",
      "step 22\n",
      "finished E\n",
      "finished M\n",
      "step 23\n",
      "finished E\n",
      "finished M\n",
      "step 24\n",
      "finished E\n",
      "finished M\n",
      "step 25\n",
      "finished E\n",
      "finished M\n",
      "step 26\n",
      "finished E\n",
      "finished M\n",
      "step 27\n",
      "finished E\n",
      "finished M\n",
      "step 28\n",
      "finished E\n",
      "finished M\n",
      "step 29\n",
      "finished E\n",
      "finished M\n",
      "step 30\n"
     ]
    }
   ],
   "source": [
    "phi_post2,gamma_post2,alpha_post2,beta_post2 = model2.fit_numba(docs2,max_iter=100)"
   ]
  },
  {
   "cell_type": "code",
   "execution_count": 60,
   "metadata": {},
   "outputs": [
    {
     "data": {
      "image/png": "[encoded data removed]",
      "text/plain": [
       "<Figure size 648x648 with 2 Axes>"
      ]
     },
     "metadata": {
      "needs_background": "light"
     },
     "output_type": "display_data"
    }
   ],
   "source": [
    "B1 = np.repeat(generator2.beta, 100, axis=0)\n",
    "B2 = np.repeat(beta_post2, 100, axis=0)\n",
    "B = [B1,B2] \n",
    "fig, axes = plt.subplots(1, 2, figsize=(9,9), sharey=True)\n",
    "for i, ax in enumerate(axes.ravel(), 1):\n",
    "    ax.imshow(B[i-1],cmap='Reds')\n",
    "    ax.set_xticklabels([])\n",
    "    ax.set_yticklabels([])\n",
    "    ax.xaxis.set_ticks_position('none')\n",
    "    ax.yaxis.set_ticks_position('none')\n",
    "plt.tight_layout()"
   ]
  },
  {
   "cell_type": "code",
   "execution_count": 53,
   "metadata": {},
   "outputs": [],
   "source": [
    "train = np.array([doc.sum(axis=0) for doc in docs2])"
   ]
  },
  {
   "cell_type": "code",
   "execution_count": 40,
   "metadata": {},
   "outputs": [],
   "source": [
    "from sklearn.decomposition import LatentDirichletAllocation\n"
   ]
  },
  {
   "cell_type": "code",
   "execution_count": 54,
   "metadata": {},
   "outputs": [],
   "source": [
    "lda = LatentDirichletAllocation(n_topics=10,\n",
    "                                learning_offset=50.,\n",
    "                                random_state=0)"
   ]
  },
  {
   "cell_type": "code",
   "execution_count": 57,
   "metadata": {},
   "outputs": [
    {
     "name": "stderr",
     "output_type": "stream",
     "text": [
      "c:\\users\\xas_x\\appdata\\local\\programs\\python\\python37\\lib\\site-packages\\sklearn\\decomposition\\online_lda.py:314: DeprecationWarning: n_topics has been renamed to n_components in version 0.19 and will be removed in 0.21\n",
      "  DeprecationWarning)\n"
     ]
    },
    {
     "name": "stdout",
     "output_type": "stream",
     "text": [
      "Wall time: 1.89 s\n"
     ]
    },
    {
     "data": {
      "text/plain": [
       "LatentDirichletAllocation(batch_size=128, doc_topic_prior=None,\n",
       "             evaluate_every=-1, learning_decay=0.7,\n",
       "             learning_method='batch', learning_offset=50.0,\n",
       "             max_doc_update_iter=100, max_iter=10, mean_change_tol=0.001,\n",
       "             n_components=10, n_jobs=None, n_topics=10, perp_tol=0.1,\n",
       "             random_state=0, topic_word_prior=None,\n",
       "             total_samples=1000000.0, verbose=0)"
      ]
     },
     "execution_count": 57,
     "metadata": {},
     "output_type": "execute_result"
    }
   ],
   "source": [
    "%%time\n",
    "lda.fit(train)"
   ]
  },
  {
   "cell_type": "code",
   "execution_count": 47,
   "metadata": {},
   "outputs": [
    {
     "data": {
      "text/plain": [
       "array([[ 4.5336936 ,  4.11574101,  9.38497532, ...,  6.15994985,\n",
       "         0.10003481,  6.92309407],\n",
       "       [ 0.10007197,  1.86818149, 10.02010795, ...,  1.02741201,\n",
       "         0.10000402, 15.67653393],\n",
       "       [ 1.62130494,  0.10001962, 14.44416637, ...,  0.87774789,\n",
       "         0.10003502,  3.08651314],\n",
       "       ...,\n",
       "       [ 3.30086531,  8.78377653,  5.94658074, ..., 23.42321789,\n",
       "         5.47179237,  1.90095984],\n",
       "       [ 4.17588842,  0.10000917,  4.35389612, ...,  0.10002864,\n",
       "         0.10002818,  0.10000208],\n",
       "       [ 0.65568906,  2.76485721, 36.85855102, ...,  8.19547023,\n",
       "         1.27143385, 31.50242606]])"
      ]
     },
     "execution_count": 47,
     "metadata": {},
     "output_type": "execute_result"
    }
   ],
   "source": [
    "lda.components_"
   ]
  },
  {
   "cell_type": "code",
   "execution_count": 56,
   "metadata": {},
   "outputs": [
    {
     "data": {
      "image/png": "[encoded data removed]",
      "text/plain": [
       "<Figure size 648x648 with 2 Axes>"
      ]
     },
     "metadata": {
      "needs_background": "light"
     },
     "output_type": "display_data"
    }
   ],
   "source": [
    "B1 = np.repeat(generator2.beta, 100, axis=0)\n",
    "B2 = np.repeat(lda.components_, 100, axis=0)\n",
    "B = [B1,B2] \n",
    "fig, axes = plt.subplots(1, 2, figsize=(9,9), sharey=True)\n",
    "for i, ax in enumerate(axes.ravel(), 1):\n",
    "    ax.imshow(B[i-1],cmap='Reds')\n",
    "    ax.set_xticklabels([])\n",
    "    ax.set_yticklabels([])\n",
    "    ax.xaxis.set_ticks_position('none')\n",
    "    ax.yaxis.set_ticks_position('none')\n",
    "plt.tight_layout()"
   ]
  },
  {
   "cell_type": "code",
   "execution_count": null,
   "metadata": {},
   "outputs": [],
   "source": []
  }
 ],
 "metadata": {
  "kernelspec": {
   "display_name": "Python 3",
   "language": "python",
   "name": "python3"
  },
  "language_info": {
   "codemirror_mode": {
    "name": "ipython",
    "version": 3
   },
   "file_extension": ".py",
   "mimetype": "text/x-python",
   "name": "python",
   "nbconvert_exporter": "python",
   "pygments_lexer": "ipython3",
   "version": "3.7.0"
  }
 },
 "nbformat": 4,
 "nbformat_minor": 2
}
