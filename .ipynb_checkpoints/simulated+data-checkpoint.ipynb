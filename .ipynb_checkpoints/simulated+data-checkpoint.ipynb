{
 "cells": [
  {
   "cell_type": "code",
   "execution_count": 1,
   "metadata": {},
   "outputs": [],
   "source": [
    "from LDAsmooth import *\n",
    "import matplotlib.pyplot as plt\n",
    "import heapq\n",
    "from generator import * "
   ]
  },
  {
   "cell_type": "code",
   "execution_count": 2,
   "metadata": {},
   "outputs": [],
   "source": [
    "generator1 = generator(10,50,np.ones(10),20)\n",
    "generator2 = generator(10,50,np.ones(10)/20,80)"
   ]
  },
  {
   "cell_type": "code",
   "execution_count": 3,
   "metadata": {},
   "outputs": [],
   "source": [
    "docs1 = generator1.sample(m=500)"
   ]
  },
  {
   "cell_type": "code",
   "execution_count": 4,
   "metadata": {},
   "outputs": [],
   "source": [
    "model = LDA(10,50)"
   ]
  },
  {
   "cell_type": "code",
   "execution_count": 5,
   "metadata": {
    "scrolled": true
   },
   "outputs": [
    {
     "name": "stdout",
     "output_type": "stream",
     "text": [
      "iteration 1\n",
      "finished E\n",
      "-15097.134881384452\n",
      "alpha:37.020458\n",
      "alpha:13.854278\n",
      "alpha:5.339198\n",
      "alpha:2.225916\n",
      "alpha:1.127427\n",
      "alpha:0.808193\n",
      "alpha:0.763082\n",
      "alpha:0.762032\n",
      "alpha:0.762032\n",
      "alpha:0.762032\n",
      "alpha change0.575485\n",
      "beta change0.609231\n",
      "finished M\n",
      "iteration 2\n",
      "finished E\n",
      "-12830.421360804783\n",
      "alpha:37.423922\n",
      "alpha:14.416601\n",
      "alpha:5.987461\n",
      "alpha:2.973282\n",
      "alpha:2.038118\n",
      "alpha:1.876662\n",
      "alpha:1.870840\n",
      "alpha:1.870832\n",
      "alpha:1.870832\n",
      "alpha change1.229438\n",
      "beta change0.006221\n",
      "finished M\n",
      "iteration 3\n",
      "finished E\n",
      "-12304.222378467082\n",
      "alpha:37.852888\n",
      "alpha:15.022142\n",
      "alpha:6.705833\n",
      "alpha:3.838164\n",
      "alpha:3.090981\n",
      "alpha:3.015375\n",
      "alpha:3.014530\n",
      "alpha:3.014530\n",
      "alpha:3.014530\n",
      "alpha change1.308045\n",
      "beta change0.000782\n",
      "finished M\n",
      "iteration 4\n",
      "finished E\n",
      "-12077.264624485153\n",
      "alpha:38.289783\n",
      "alpha:15.646602\n",
      "alpha:7.465245\n",
      "alpha:4.774322\n",
      "alpha:4.196896\n",
      "alpha:4.161743\n",
      "alpha:4.161606\n",
      "alpha:4.161606\n",
      "alpha change1.315784\n",
      "beta change0.000121\n",
      "finished M\n",
      "iteration 5\n",
      "finished E\n",
      "-11951.571690728604\n",
      "alpha:38.731282\n",
      "alpha:16.285148\n",
      "alpha:8.257968\n",
      "alpha:5.760593\n",
      "alpha:5.322523\n",
      "alpha:5.306048\n",
      "alpha:5.306024\n",
      "alpha:5.306024\n",
      "alpha change1.309692\n",
      "beta change0.000022\n",
      "finished M\n",
      "iteration 6\n",
      "finished E\n",
      "-11871.845692299983\n",
      "alpha:39.176647\n",
      "alpha:16.936502\n",
      "alpha:9.080298\n",
      "alpha:6.783230\n",
      "alpha:6.454462\n",
      "alpha:6.446654\n",
      "alpha:6.446650\n",
      "alpha:6.446650\n",
      "alpha change1.301026\n",
      "beta change0.000005\n"
     ]
    }
   ],
   "source": [
    "phi_post1,gamma_post1,alpha_post1,beta_post1 = model.fit(docs1)"
   ]
  },
  {
   "cell_type": "code",
   "execution_count": 6,
   "metadata": {},
   "outputs": [
    {
     "data": {
      "text/plain": [
       "0.25983313823440335"
      ]
     },
     "execution_count": 6,
     "metadata": {},
     "output_type": "execute_result"
    }
   ],
   "source": [
    "model.alpha"
   ]
  },
  {
   "cell_type": "code",
   "execution_count": 7,
   "metadata": {},
   "outputs": [
    {
     "data": {
      "image/png": "[encoded data removed]",
      "text/plain": [
       "<Figure size 720x360 with 2 Axes>"
      ]
     },
     "metadata": {
      "needs_background": "light"
     },
     "output_type": "display_data"
    }
   ],
   "source": [
    "B1 = np.repeat(generator1.beta, 10, axis=0)\n",
    "B2 = np.repeat(beta_post1, 10, axis=0)\n",
    "B = [B1,B2] \n",
    "fig, axes = plt.subplots(1, 2, figsize=(10,5), sharey=True)\n",
    "for i, ax in enumerate(axes.ravel(), 1):\n",
    "    ax.imshow(B[i-1],cmap='Reds')\n",
    "    ax.set_xticklabels([])\n",
    "    ax.set_yticklabels([])\n",
    "    ax.xaxis.set_ticks_position('none')\n",
    "    ax.yaxis.set_ticks_position('none')\n",
    "plt.tight_layout()\n"
   ]
  },
  {
   "cell_type": "code",
   "execution_count": 2,
   "metadata": {},
   "outputs": [],
   "source": [
    "generator2 = generator(10,500,np.ones(10)/20,80)\n",
    "_=generator2.make_parameter()\n",
    "docs2 = generator2.sample(m=1000)"
   ]
  },
  {
   "cell_type": "code",
   "execution_count": 3,
   "metadata": {},
   "outputs": [],
   "source": [
    "train = np.array([doc.sum(axis=0) for doc in docs2])"
   ]
  },
  {
   "cell_type": "code",
   "execution_count": 4,
   "metadata": {},
   "outputs": [],
   "source": [
    "from sklearn.decomposition import LatentDirichletAllocation\n"
   ]
  },
  {
   "cell_type": "code",
   "execution_count": 5,
   "metadata": {},
   "outputs": [],
   "source": [
    "lda = LatentDirichletAllocation(n_topics=10,\n",
    "                                learning_offset=50.,\n",
    "                                random_state=0)"
   ]
  },
  {
   "cell_type": "code",
   "execution_count": null,
   "metadata": {},
   "outputs": [],
   "source": [
    "lda2"
   ]
  },
  {
   "cell_type": "code",
   "execution_count": null,
   "metadata": {},
   "outputs": [],
   "source": []
  },
  {
   "cell_type": "code",
   "execution_count": 6,
   "metadata": {},
   "outputs": [
    {
     "name": "stderr",
     "output_type": "stream",
     "text": [
      "c:\\users\\xas_x\\appdata\\local\\programs\\python\\python37\\lib\\site-packages\\sklearn\\decomposition\\online_lda.py:314: DeprecationWarning: n_topics has been renamed to n_components in version 0.19 and will be removed in 0.21\n",
      "  DeprecationWarning)\n"
     ]
    },
    {
     "name": "stdout",
     "output_type": "stream",
     "text": [
      "Wall time: 9.1 s\n"
     ]
    },
    {
     "data": {
      "text/plain": [
       "LatentDirichletAllocation(batch_size=128, doc_topic_prior=None,\n",
       "             evaluate_every=-1, learning_decay=0.7,\n",
       "             learning_method='batch', learning_offset=50.0,\n",
       "             max_doc_update_iter=100, max_iter=10, mean_change_tol=0.001,\n",
       "             n_components=10, n_jobs=None, n_topics=10, perp_tol=0.1,\n",
       "             random_state=0, topic_word_prior=None,\n",
       "             total_samples=1000000.0, verbose=0)"
      ]
     },
     "execution_count": 6,
     "metadata": {},
     "output_type": "execute_result"
    }
   ],
   "source": [
    "%%time\n",
    "lda.fit(train)"
   ]
  },
  {
   "cell_type": "code",
   "execution_count": 7,
   "metadata": {},
   "outputs": [
    {
     "data": {
      "image/png": "[encoded data removed]",
      "text/plain": [
       "<Figure size 648x648 with 2 Axes>"
      ]
     },
     "metadata": {
      "needs_background": "light"
     },
     "output_type": "display_data"
    }
   ],
   "source": [
    "B1 = np.repeat(generator2.beta, 50, axis=0)\n",
    "B2 = np.repeat(lda.components_, 50, axis=0)\n",
    "B = [B1,B2] \n",
    "fig, axes = plt.subplots(1, 2, figsize=(9,9), sharey=True)\n",
    "for i, ax in enumerate(axes.ravel(), 1):\n",
    "    ax.imshow(B[i-1],cmap='Reds')\n",
    "    ax.set_xticklabels([])\n",
    "    ax.set_yticklabels([])\n",
    "    ax.xaxis.set_ticks_position('none')\n",
    "    ax.yaxis.set_ticks_position('none')\n",
    "plt.tight_layout()"
   ]
  },
  {
   "cell_type": "code",
   "execution_count": 3,
   "metadata": {},
   "outputs": [],
   "source": [
    "model2 = LDA(10,500)"
   ]
  },
  {
   "cell_type": "code",
   "execution_count": 4,
   "metadata": {},
   "outputs": [
    {
     "data": {
      "image/png": "[encoded data removed]",
      "text/plain": [
       "<Figure size 648x648 with 2 Axes>"
      ]
     },
     "metadata": {
      "needs_background": "light"
     },
     "output_type": "display_data"
    }
   ],
   "source": [
    "B1 = np.repeat(generator2.beta, 100, axis=0)\n",
    "B2 = np.repeat(model2.beta, 100, axis=0)\n",
    "B = [B1,B2] \n",
    "fig, axes = plt.subplots(1, 2, figsize=(9,9), sharey=True)\n",
    "for i, ax in enumerate(axes.ravel(), 1):\n",
    "    ax.imshow(B[i-1],cmap='Reds')\n",
    "    ax.set_xticklabels([])\n",
    "    ax.set_yticklabels([])\n",
    "    ax.xaxis.set_ticks_position('none')\n",
    "    ax.yaxis.set_ticks_position('none')\n",
    "plt.tight_layout()"
   ]
  },
  {
   "cell_type": "code",
   "execution_count": 5,
   "metadata": {
    "scrolled": true
   },
   "outputs": [
    {
     "name": "stdout",
     "output_type": "stream",
     "text": [
      "iteration 1\n",
      "finished E\n",
      "-24087.21666620795\n",
      "alpha:38.387064\n",
      "alpha:15.786668\n",
      "alpha:7.637841\n",
      "alpha:4.988673\n",
      "alpha:4.444784\n",
      "alpha:4.415081\n",
      "alpha:4.414989\n",
      "alpha:4.414989\n",
      "alpha change19.141697\n",
      "beta change0.098316\n",
      "finished M\n",
      "iteration 2\n",
      "finished E\n",
      "-23565.76350587113\n",
      "alpha:39.997215\n",
      "alpha:18.154180\n",
      "alpha:10.645250\n",
      "alpha:8.707945\n",
      "alpha:8.515969\n",
      "alpha:8.513908\n",
      "alpha:8.513908\n",
      "alpha:8.513908\n",
      "alpha change16.801142\n",
      "beta change0.000124\n",
      "finished M\n",
      "iteration 3\n",
      "finished E\n",
      "-23393.831338239\n",
      "alpha:41.590850\n",
      "alpha:20.575830\n",
      "alpha:13.816352\n",
      "alpha:12.477053\n",
      "alpha:12.409637\n",
      "alpha:12.409460\n",
      "alpha:12.409460\n",
      "alpha change15.175322\n",
      "beta change0.000031\n",
      "finished M\n",
      "iteration 4\n",
      "finished E\n",
      "-23307.616074881334\n",
      "alpha:43.181680\n",
      "alpha:23.053599\n",
      "alpha:17.077268\n",
      "alpha:16.176078\n",
      "alpha:16.151972\n",
      "alpha:16.151954\n",
      "alpha:16.151954\n",
      "alpha change14.006263\n",
      "beta change0.000008\n"
     ]
    }
   ],
   "source": [
    "phi_post2,gamma_post2,alpha_post2,beta_post2 = model2.fit(docs2,max_iter=100)"
   ]
  },
  {
   "cell_type": "code",
   "execution_count": 7,
   "metadata": {},
   "outputs": [
    {
     "data": {
      "image/png": "[encoded data removed]",
      "text/plain": [
       "<Figure size 648x648 with 2 Axes>"
      ]
     },
     "metadata": {
      "needs_background": "light"
     },
     "output_type": "display_data"
    }
   ],
   "source": [
    "B1 = np.repeat(generator2.beta, 100, axis=0)\n",
    "B2 = np.repeat(beta_post2, 100, axis=0)\n",
    "B = [B1,B2] \n",
    "fig, axes = plt.subplots(1, 2, figsize=(9,9), sharey=True)\n",
    "for i, ax in enumerate(axes.ravel(), 1):\n",
    "    ax.imshow(B[i-1],cmap='Reds')\n",
    "    ax.set_xticklabels([])\n",
    "    ax.set_yticklabels([])\n",
    "    ax.xaxis.set_ticks_position('none')\n",
    "    ax.yaxis.set_ticks_position('none')\n",
    "plt.tight_layout()"
   ]
  },
  {
   "cell_type": "code",
   "execution_count": 6,
   "metadata": {},
   "outputs": [
    {
     "data": {
      "text/plain": [
       "array([1., 1., 1., 1., 1., 1., 1., 1., 1., 1.])"
      ]
     },
     "execution_count": 6,
     "metadata": {},
     "output_type": "execute_result"
    }
   ],
   "source": [
    "beta_post2.sum(axis=1)"
   ]
  },
  {
   "cell_type": "code",
   "execution_count": 7,
   "metadata": {},
   "outputs": [
    {
     "data": {
      "text/plain": [
       "array([[0.00185105, 0.00200202, 0.00185004, ..., 0.00106247, 0.00204844,\n",
       "        0.00229445],\n",
       "       [0.00188692, 0.00141463, 0.00230333, ..., 0.00178663, 0.00190343,\n",
       "        0.00232113],\n",
       "       [0.00163817, 0.00113505, 0.00160631, ..., 0.00315789, 0.00194008,\n",
       "        0.00171548],\n",
       "       ...,\n",
       "       [0.00244741, 0.00173769, 0.00174291, ..., 0.00154993, 0.00248566,\n",
       "        0.00166885],\n",
       "       [0.00148364, 0.00235451, 0.00223575, ..., 0.0035682 , 0.00215999,\n",
       "        0.00301455],\n",
       "       [0.00211598, 0.00183298, 0.00291746, ..., 0.00230782, 0.00287564,\n",
       "        0.00390208]])"
      ]
     },
     "execution_count": 7,
     "metadata": {},
     "output_type": "execute_result"
    }
   ],
   "source": [
    "beta_post2"
   ]
  },
  {
   "cell_type": "markdown",
   "metadata": {},
   "source": [
    "| Algorithm|variational EM|variational Bayes|\n",
    "|-|-|-|\n",
    "|time|32s|1.7s|"
   ]
  },
  {
   "cell_type": "code",
   "execution_count": null,
   "metadata": {},
   "outputs": [],
   "source": []
  }
 ],
 "metadata": {
  "kernelspec": {
   "display_name": "Python 3",
   "language": "python",
   "name": "python3"
  },
  "language_info": {
   "codemirror_mode": {
    "name": "ipython",
    "version": 3
   },
   "file_extension": ".py",
   "mimetype": "text/x-python",
   "name": "python",
   "nbconvert_exporter": "python",
   "pygments_lexer": "ipython3",
   "version": "3.7.0"
  }
 },
 "nbformat": 4,
 "nbformat_minor": 2
}
